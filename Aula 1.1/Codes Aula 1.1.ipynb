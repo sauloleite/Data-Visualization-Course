{
 "metadata": {
  "language_info": {
   "codemirror_mode": {
    "name": "ipython",
    "version": 3
   },
   "file_extension": ".py",
   "mimetype": "text/x-python",
   "name": "python",
   "nbconvert_exporter": "python",
   "pygments_lexer": "ipython3",
   "version": "3.7.7-final"
  },
  "orig_nbformat": 2,
  "kernelspec": {
   "name": "python3",
   "display_name": "Python 3",
   "language": "python"
  }
 },
 "nbformat": 4,
 "nbformat_minor": 2,
 "cells": [
  {
   "cell_type": "code",
   "execution_count": 1,
   "metadata": {},
   "outputs": [],
   "source": [
    "import pandas as pd"
   ]
  },
  {
   "cell_type": "code",
   "execution_count": 3,
   "metadata": {},
   "outputs": [],
   "source": [
    "'''Series possui um índice, chamado index que rotula cada elemento, e permite que ele seja acessado através desse índice.'''\n",
    "s = pd.Series([1,2,3,4,5])"
   ]
  },
  {
   "cell_type": "code",
   "execution_count": 4,
   "metadata": {},
   "outputs": [
    {
     "output_type": "execute_result",
     "data": {
      "text/plain": [
       "0    1\n",
       "1    2\n",
       "2    3\n",
       "3    4\n",
       "4    5\n",
       "dtype: int64"
      ]
     },
     "metadata": {},
     "execution_count": 4
    }
   ],
   "source": [
    "s"
   ]
  },
  {
   "cell_type": "code",
   "execution_count": 5,
   "metadata": {},
   "outputs": [
    {
     "output_type": "execute_result",
     "data": {
      "text/plain": [
       "array([1, 2, 3, 4, 5], dtype=int64)"
      ]
     },
     "metadata": {},
     "execution_count": 5
    }
   ],
   "source": [
    "'''Para exibir apenas os valores, basta chamar o atributo values do objeto'''\n",
    "s.values"
   ]
  },
  {
   "cell_type": "code",
   "execution_count": 7,
   "metadata": {},
   "outputs": [
    {
     "output_type": "execute_result",
     "data": {
      "text/plain": [
       "4"
      ]
     },
     "metadata": {},
     "execution_count": 7
    }
   ],
   "source": [
    "#caso você precise acessar o quarto elemento da Series, escreva:\n",
    "s[3]"
   ]
  },
  {
   "cell_type": "code",
   "execution_count": 8,
   "metadata": {},
   "outputs": [],
   "source": [
    "'''Series de dados fictícios de quantidade de acidentes automobilísticos ao longo de um ano'''\n",
    "s = pd.Series([15,20,12,16,10,11,12,15,9,10,12,17], index = ['jan','fev', 'mar', 'abr', 'mai', 'jun', 'jul', 'ago', 'set','out','nov', 'dez'])"
   ]
  },
  {
   "cell_type": "code",
   "execution_count": 9,
   "metadata": {},
   "outputs": [
    {
     "output_type": "execute_result",
     "data": {
      "text/plain": [
       "jan    15\n",
       "fev    20\n",
       "mar    12\n",
       "abr    16\n",
       "mai    10\n",
       "jun    11\n",
       "jul    12\n",
       "ago    15\n",
       "set     9\n",
       "out    10\n",
       "nov    12\n",
       "dez    17\n",
       "dtype: int64"
      ]
     },
     "metadata": {},
     "execution_count": 9
    }
   ],
   "source": [
    "s"
   ]
  },
  {
   "cell_type": "code",
   "execution_count": 10,
   "metadata": {},
   "outputs": [
    {
     "output_type": "execute_result",
     "data": {
      "text/plain": [
       "13.25"
      ]
     },
     "metadata": {},
     "execution_count": 10
    }
   ],
   "source": [
    "'''podemos calcular a média e o desvio padrão de uma Series através dos métodos mean() e std(), e também calcular os valores máximo e mínimo de uma Series, através dos métodos max() e min()'''\n",
    "s.mean()"
   ]
  },
  {
   "cell_type": "code",
   "execution_count": 11,
   "metadata": {},
   "outputs": [
    {
     "output_type": "execute_result",
     "data": {
      "text/plain": [
       "3.333712099692528"
      ]
     },
     "metadata": {},
     "execution_count": 11
    }
   ],
   "source": [
    "s.std()"
   ]
  },
  {
   "cell_type": "code",
   "execution_count": 12,
   "metadata": {},
   "outputs": [
    {
     "output_type": "execute_result",
     "data": {
      "text/plain": [
       "20"
      ]
     },
     "metadata": {},
     "execution_count": 12
    }
   ],
   "source": [
    "s.max()"
   ]
  },
  {
   "cell_type": "code",
   "execution_count": 13,
   "metadata": {},
   "outputs": [
    {
     "output_type": "execute_result",
     "data": {
      "text/plain": [
       "9"
      ]
     },
     "metadata": {},
     "execution_count": 13
    }
   ],
   "source": [
    "s.min()"
   ]
  },
  {
   "cell_type": "code",
   "execution_count": 14,
   "metadata": {},
   "outputs": [
    {
     "output_type": "execute_result",
     "data": {
      "text/plain": [
       "count    12.000000\n",
       "mean     13.250000\n",
       "std       3.333712\n",
       "min       9.000000\n",
       "25%      10.750000\n",
       "50%      12.000000\n",
       "75%      15.250000\n",
       "max      20.000000\n",
       "dtype: float64"
      ]
     },
     "metadata": {},
     "execution_count": 14
    }
   ],
   "source": [
    "'''O pandas dispõe de um método bastante útil que calcula e exibe diversas medidas estatísticas de uma Series ao mesmo tempo, chamado describe().'''\n",
    "s.describe()"
   ]
  },
  {
   "cell_type": "code",
   "execution_count": 18,
   "metadata": {},
   "outputs": [
    {
     "output_type": "execute_result",
     "data": {
      "text/plain": [
       "159"
      ]
     },
     "metadata": {},
     "execution_count": 18
    }
   ],
   "source": [
    "#Para fazer o somatório dos acidentes ocorridos durante o ano, utiliza-se o método sum()\n",
    "s.sum()"
   ]
  },
  {
   "cell_type": "code",
   "execution_count": 16,
   "metadata": {},
   "outputs": [
    {
     "output_type": "execute_result",
     "data": {
      "text/plain": [
       "12.5"
      ]
     },
     "metadata": {},
     "execution_count": 16
    }
   ],
   "source": [
    "'''Caso você queira saber a média dos acidentes no segundo semestre, você pode selecionar os últimos 6 meses e aplicar o método mean().'''\n",
    "s[6:].mean() "
   ]
  },
  {
   "cell_type": "code",
   "execution_count": 19,
   "metadata": {},
   "outputs": [],
   "source": [
    "'''Existem diversas formas de criar DataFrames. A mais simples é passando um dicionário de Python, utilizando o mapeamento chave-valor. A chave é o nome da variável, e o valor passado é uma coleção de valores'''\n",
    "df = pd.DataFrame({'Aluno' : ['Marina','Felipe','Cleyton','Isabel'],\n",
    "'Créditos cursados': [20,64,32,24],\n",
    "'Rendimento acadêmico' : [8.55,7.88,8.17,9.04],\n",
    "'Mês de nascimento' : ['Novembro','Setembro','Janeiro','Julho'],\n",
    "'Curso': ['Computação','Estatística','Computação','Matemática']})"
   ]
  },
  {
   "cell_type": "code",
   "execution_count": 20,
   "metadata": {},
   "outputs": [
    {
     "output_type": "execute_result",
     "data": {
      "text/plain": [
       "     Aluno  Créditos cursados  Rendimento acadêmico Mês de nascimento  \\\n",
       "0   Marina                 20                  8.55          Novembro   \n",
       "1   Felipe                 64                  7.88          Setembro   \n",
       "2  Cleyton                 32                  8.17           Janeiro   \n",
       "3   Isabel                 24                  9.04             Julho   \n",
       "\n",
       "         Curso  \n",
       "0   Computação  \n",
       "1  Estatística  \n",
       "2   Computação  \n",
       "3   Matemática  "
      ],
      "text/html": "<div>\n<style scoped>\n    .dataframe tbody tr th:only-of-type {\n        vertical-align: middle;\n    }\n\n    .dataframe tbody tr th {\n        vertical-align: top;\n    }\n\n    .dataframe thead th {\n        text-align: right;\n    }\n</style>\n<table border=\"1\" class=\"dataframe\">\n  <thead>\n    <tr style=\"text-align: right;\">\n      <th></th>\n      <th>Aluno</th>\n      <th>Créditos cursados</th>\n      <th>Rendimento acadêmico</th>\n      <th>Mês de nascimento</th>\n      <th>Curso</th>\n    </tr>\n  </thead>\n  <tbody>\n    <tr>\n      <th>0</th>\n      <td>Marina</td>\n      <td>20</td>\n      <td>8.55</td>\n      <td>Novembro</td>\n      <td>Computação</td>\n    </tr>\n    <tr>\n      <th>1</th>\n      <td>Felipe</td>\n      <td>64</td>\n      <td>7.88</td>\n      <td>Setembro</td>\n      <td>Estatística</td>\n    </tr>\n    <tr>\n      <th>2</th>\n      <td>Cleyton</td>\n      <td>32</td>\n      <td>8.17</td>\n      <td>Janeiro</td>\n      <td>Computação</td>\n    </tr>\n    <tr>\n      <th>3</th>\n      <td>Isabel</td>\n      <td>24</td>\n      <td>9.04</td>\n      <td>Julho</td>\n      <td>Matemática</td>\n    </tr>\n  </tbody>\n</table>\n</div>"
     },
     "metadata": {},
     "execution_count": 20
    }
   ],
   "source": [
    "df"
   ]
  },
  {
   "cell_type": "code",
   "execution_count": 21,
   "metadata": {},
   "outputs": [
    {
     "output_type": "execute_result",
     "data": {
      "text/plain": [
       "Aluno                      Cleyton\n",
       "Créditos cursados               32\n",
       "Rendimento acadêmico          8.17\n",
       "Mês de nascimento          Janeiro\n",
       "Curso                   Computação\n",
       "Name: 2, dtype: object"
      ]
     },
     "metadata": {},
     "execution_count": 21
    }
   ],
   "source": [
    "'''Podemos utilizar o index para acessar linhas específicas, entretanto devemos chamar o método iloc().'''\n",
    "df.iloc[2]"
   ]
  },
  {
   "cell_type": "code",
   "execution_count": 22,
   "metadata": {},
   "outputs": [
    {
     "output_type": "execute_result",
     "data": {
      "text/plain": [
       "0    8.55\n",
       "1    7.88\n",
       "2    8.17\n",
       "3    9.04\n",
       "Name: Rendimento acadêmico, dtype: float64"
      ]
     },
     "metadata": {},
     "execution_count": 22
    }
   ],
   "source": [
    "'''Você pode selecionar as colunas individualmente e aplicar sobre elas os mesmos métodos utilizados em Series! Para isso, seleciona-se uma coluna através do nome dela entre colchetes, de forma idêntica ao conceito chave-valor dos dicionários de Python.'''\n",
    "df['Rendimento acadêmico']"
   ]
  },
  {
   "cell_type": "code",
   "execution_count": 23,
   "metadata": {},
   "outputs": [
    {
     "output_type": "execute_result",
     "data": {
      "text/plain": [
       "8.41"
      ]
     },
     "metadata": {},
     "execution_count": 23
    }
   ],
   "source": [
    "#Média de rendimento da turma\n",
    "df['Rendimento acadêmico'].mean()"
   ]
  },
  {
   "cell_type": "code",
   "execution_count": 24,
   "metadata": {},
   "outputs": [
    {
     "output_type": "execute_result",
     "data": {
      "text/plain": [
       "       Créditos cursados  Rendimento acadêmico\n",
       "count           4.000000              4.000000\n",
       "mean           35.000000              8.410000\n",
       "std            19.966639              0.501664\n",
       "min            20.000000              7.880000\n",
       "25%            23.000000              8.097500\n",
       "50%            28.000000              8.360000\n",
       "75%            40.000000              8.672500\n",
       "max            64.000000              9.040000"
      ],
      "text/html": "<div>\n<style scoped>\n    .dataframe tbody tr th:only-of-type {\n        vertical-align: middle;\n    }\n\n    .dataframe tbody tr th {\n        vertical-align: top;\n    }\n\n    .dataframe thead th {\n        text-align: right;\n    }\n</style>\n<table border=\"1\" class=\"dataframe\">\n  <thead>\n    <tr style=\"text-align: right;\">\n      <th></th>\n      <th>Créditos cursados</th>\n      <th>Rendimento acadêmico</th>\n    </tr>\n  </thead>\n  <tbody>\n    <tr>\n      <th>count</th>\n      <td>4.000000</td>\n      <td>4.000000</td>\n    </tr>\n    <tr>\n      <th>mean</th>\n      <td>35.000000</td>\n      <td>8.410000</td>\n    </tr>\n    <tr>\n      <th>std</th>\n      <td>19.966639</td>\n      <td>0.501664</td>\n    </tr>\n    <tr>\n      <th>min</th>\n      <td>20.000000</td>\n      <td>7.880000</td>\n    </tr>\n    <tr>\n      <th>25%</th>\n      <td>23.000000</td>\n      <td>8.097500</td>\n    </tr>\n    <tr>\n      <th>50%</th>\n      <td>28.000000</td>\n      <td>8.360000</td>\n    </tr>\n    <tr>\n      <th>75%</th>\n      <td>40.000000</td>\n      <td>8.672500</td>\n    </tr>\n    <tr>\n      <th>max</th>\n      <td>64.000000</td>\n      <td>9.040000</td>\n    </tr>\n  </tbody>\n</table>\n</div>"
     },
     "metadata": {},
     "execution_count": 24
    }
   ],
   "source": [
    "'''Você pode ainda utilizar o método describe() da mesma maneira que na Series, para calcular diferentes medidas estatísticas em todas as variáveis quantitativas de uma só vez.'''\n",
    "df.describe()"
   ]
  },
  {
   "cell_type": "code",
   "execution_count": 25,
   "metadata": {},
   "outputs": [],
   "source": [
    "'''Para ler um arquivo CSV, utilize o método read_csv, passando como argumento o caminho do arquivo na máquina. Caso os dados estejam disponíveis na Web, você pode passar como argumento a URL dos dados. \n",
    "Os dados , em inglês, são referentes ao consumo de álcool por pessoa em diferentes países, coletados pela Organização Mundial da Saúde no ano de 2010.'''\n",
    "\n",
    "df=pd.read_csv('https://raw.githubusercontent.com/fivethirtyeight/data/master/alcohol-consumption/drinks.csv')"
   ]
  },
  {
   "cell_type": "code",
   "execution_count": 26,
   "metadata": {},
   "outputs": [
    {
     "output_type": "execute_result",
     "data": {
      "text/plain": [
       "         country  beer_servings  spirit_servings  wine_servings  \\\n",
       "0    Afghanistan              0                0              0   \n",
       "1        Albania             89              132             54   \n",
       "2        Algeria             25                0             14   \n",
       "3        Andorra            245              138            312   \n",
       "4         Angola            217               57             45   \n",
       "..           ...            ...              ...            ...   \n",
       "188    Venezuela            333              100              3   \n",
       "189      Vietnam            111                2              1   \n",
       "190        Yemen              6                0              0   \n",
       "191       Zambia             32               19              4   \n",
       "192     Zimbabwe             64               18              4   \n",
       "\n",
       "     total_litres_of_pure_alcohol  \n",
       "0                             0.0  \n",
       "1                             4.9  \n",
       "2                             0.7  \n",
       "3                            12.4  \n",
       "4                             5.9  \n",
       "..                            ...  \n",
       "188                           7.7  \n",
       "189                           2.0  \n",
       "190                           0.1  \n",
       "191                           2.5  \n",
       "192                           4.7  \n",
       "\n",
       "[193 rows x 5 columns]"
      ],
      "text/html": "<div>\n<style scoped>\n    .dataframe tbody tr th:only-of-type {\n        vertical-align: middle;\n    }\n\n    .dataframe tbody tr th {\n        vertical-align: top;\n    }\n\n    .dataframe thead th {\n        text-align: right;\n    }\n</style>\n<table border=\"1\" class=\"dataframe\">\n  <thead>\n    <tr style=\"text-align: right;\">\n      <th></th>\n      <th>country</th>\n      <th>beer_servings</th>\n      <th>spirit_servings</th>\n      <th>wine_servings</th>\n      <th>total_litres_of_pure_alcohol</th>\n    </tr>\n  </thead>\n  <tbody>\n    <tr>\n      <th>0</th>\n      <td>Afghanistan</td>\n      <td>0</td>\n      <td>0</td>\n      <td>0</td>\n      <td>0.0</td>\n    </tr>\n    <tr>\n      <th>1</th>\n      <td>Albania</td>\n      <td>89</td>\n      <td>132</td>\n      <td>54</td>\n      <td>4.9</td>\n    </tr>\n    <tr>\n      <th>2</th>\n      <td>Algeria</td>\n      <td>25</td>\n      <td>0</td>\n      <td>14</td>\n      <td>0.7</td>\n    </tr>\n    <tr>\n      <th>3</th>\n      <td>Andorra</td>\n      <td>245</td>\n      <td>138</td>\n      <td>312</td>\n      <td>12.4</td>\n    </tr>\n    <tr>\n      <th>4</th>\n      <td>Angola</td>\n      <td>217</td>\n      <td>57</td>\n      <td>45</td>\n      <td>5.9</td>\n    </tr>\n    <tr>\n      <th>...</th>\n      <td>...</td>\n      <td>...</td>\n      <td>...</td>\n      <td>...</td>\n      <td>...</td>\n    </tr>\n    <tr>\n      <th>188</th>\n      <td>Venezuela</td>\n      <td>333</td>\n      <td>100</td>\n      <td>3</td>\n      <td>7.7</td>\n    </tr>\n    <tr>\n      <th>189</th>\n      <td>Vietnam</td>\n      <td>111</td>\n      <td>2</td>\n      <td>1</td>\n      <td>2.0</td>\n    </tr>\n    <tr>\n      <th>190</th>\n      <td>Yemen</td>\n      <td>6</td>\n      <td>0</td>\n      <td>0</td>\n      <td>0.1</td>\n    </tr>\n    <tr>\n      <th>191</th>\n      <td>Zambia</td>\n      <td>32</td>\n      <td>19</td>\n      <td>4</td>\n      <td>2.5</td>\n    </tr>\n    <tr>\n      <th>192</th>\n      <td>Zimbabwe</td>\n      <td>64</td>\n      <td>18</td>\n      <td>4</td>\n      <td>4.7</td>\n    </tr>\n  </tbody>\n</table>\n<p>193 rows × 5 columns</p>\n</div>"
     },
     "metadata": {},
     "execution_count": 26
    }
   ],
   "source": [
    "df"
   ]
  },
  {
   "cell_type": "code",
   "execution_count": 27,
   "metadata": {},
   "outputs": [
    {
     "output_type": "execute_result",
     "data": {
      "text/plain": [
       "             country  beer_servings  spirit_servings  wine_servings  \\\n",
       "0        Afghanistan              0                0              0   \n",
       "1            Albania             89              132             54   \n",
       "2            Algeria             25                0             14   \n",
       "3            Andorra            245              138            312   \n",
       "4             Angola            217               57             45   \n",
       "5  Antigua & Barbuda            102              128             45   \n",
       "\n",
       "   total_litres_of_pure_alcohol  \n",
       "0                           0.0  \n",
       "1                           4.9  \n",
       "2                           0.7  \n",
       "3                          12.4  \n",
       "4                           5.9  \n",
       "5                           4.9  "
      ],
      "text/html": "<div>\n<style scoped>\n    .dataframe tbody tr th:only-of-type {\n        vertical-align: middle;\n    }\n\n    .dataframe tbody tr th {\n        vertical-align: top;\n    }\n\n    .dataframe thead th {\n        text-align: right;\n    }\n</style>\n<table border=\"1\" class=\"dataframe\">\n  <thead>\n    <tr style=\"text-align: right;\">\n      <th></th>\n      <th>country</th>\n      <th>beer_servings</th>\n      <th>spirit_servings</th>\n      <th>wine_servings</th>\n      <th>total_litres_of_pure_alcohol</th>\n    </tr>\n  </thead>\n  <tbody>\n    <tr>\n      <th>0</th>\n      <td>Afghanistan</td>\n      <td>0</td>\n      <td>0</td>\n      <td>0</td>\n      <td>0.0</td>\n    </tr>\n    <tr>\n      <th>1</th>\n      <td>Albania</td>\n      <td>89</td>\n      <td>132</td>\n      <td>54</td>\n      <td>4.9</td>\n    </tr>\n    <tr>\n      <th>2</th>\n      <td>Algeria</td>\n      <td>25</td>\n      <td>0</td>\n      <td>14</td>\n      <td>0.7</td>\n    </tr>\n    <tr>\n      <th>3</th>\n      <td>Andorra</td>\n      <td>245</td>\n      <td>138</td>\n      <td>312</td>\n      <td>12.4</td>\n    </tr>\n    <tr>\n      <th>4</th>\n      <td>Angola</td>\n      <td>217</td>\n      <td>57</td>\n      <td>45</td>\n      <td>5.9</td>\n    </tr>\n    <tr>\n      <th>5</th>\n      <td>Antigua &amp; Barbuda</td>\n      <td>102</td>\n      <td>128</td>\n      <td>45</td>\n      <td>4.9</td>\n    </tr>\n  </tbody>\n</table>\n</div>"
     },
     "metadata": {},
     "execution_count": 27
    }
   ],
   "source": [
    "'''Caso o DataFrame tenha muitas linhas, como no exemplo a seguir, a tabela não será exibida inteiramente. Um método muito utilizado é o head(), que recebe como parâmetro um número inteiro e exibe apenas essa quantidade do topo das linhas do DataFrame. Por exemplo, se você quiser exibir as 6 primeiras linhas do DataFrame.'''\n",
    "df.head(6)"
   ]
  },
  {
   "cell_type": "code",
   "execution_count": 28,
   "metadata": {},
   "outputs": [
    {
     "output_type": "execute_result",
     "data": {
      "text/plain": [
       "   country  beer_servings  spirit_servings  wine_servings  \\\n",
       "23  Brazil            245              145             16   \n",
       "\n",
       "    total_litres_of_pure_alcohol  \n",
       "23                           7.2  "
      ],
      "text/html": "<div>\n<style scoped>\n    .dataframe tbody tr th:only-of-type {\n        vertical-align: middle;\n    }\n\n    .dataframe tbody tr th {\n        vertical-align: top;\n    }\n\n    .dataframe thead th {\n        text-align: right;\n    }\n</style>\n<table border=\"1\" class=\"dataframe\">\n  <thead>\n    <tr style=\"text-align: right;\">\n      <th></th>\n      <th>country</th>\n      <th>beer_servings</th>\n      <th>spirit_servings</th>\n      <th>wine_servings</th>\n      <th>total_litres_of_pure_alcohol</th>\n    </tr>\n  </thead>\n  <tbody>\n    <tr>\n      <th>23</th>\n      <td>Brazil</td>\n      <td>245</td>\n      <td>145</td>\n      <td>16</td>\n      <td>7.2</td>\n    </tr>\n  </tbody>\n</table>\n</div>"
     },
     "metadata": {},
     "execution_count": 28
    }
   ],
   "source": [
    "'''Para responder perguntas em grandes datasets, pode ser importante selecionar dados que atendam a condições específicas. Para isso, é utilizada a chamada indexação booleana. Você utiliza como chave a condição desejada entre os colchetes. Para ilustrar essa sintaxe, imagine que você queira saber os dados a respeito de consumo de álcool no Brasil.'''\n",
    "df[df['country'] == 'Brazil']"
   ]
  },
  {
   "cell_type": "code",
   "execution_count": 29,
   "metadata": {},
   "outputs": [
    {
     "output_type": "execute_result",
     "data": {
      "text/plain": [
       "      country  beer_servings  spirit_servings  wine_servings  \\\n",
       "3     Andorra            245              138            312   \n",
       "15    Belarus            142              373             42   \n",
       "98  Lithuania            343              244             56   \n",
       "\n",
       "    total_litres_of_pure_alcohol  \n",
       "3                           12.4  \n",
       "15                          14.4  \n",
       "98                          12.9  "
      ],
      "text/html": "<div>\n<style scoped>\n    .dataframe tbody tr th:only-of-type {\n        vertical-align: middle;\n    }\n\n    .dataframe tbody tr th {\n        vertical-align: top;\n    }\n\n    .dataframe thead th {\n        text-align: right;\n    }\n</style>\n<table border=\"1\" class=\"dataframe\">\n  <thead>\n    <tr style=\"text-align: right;\">\n      <th></th>\n      <th>country</th>\n      <th>beer_servings</th>\n      <th>spirit_servings</th>\n      <th>wine_servings</th>\n      <th>total_litres_of_pure_alcohol</th>\n    </tr>\n  </thead>\n  <tbody>\n    <tr>\n      <th>3</th>\n      <td>Andorra</td>\n      <td>245</td>\n      <td>138</td>\n      <td>312</td>\n      <td>12.4</td>\n    </tr>\n    <tr>\n      <th>15</th>\n      <td>Belarus</td>\n      <td>142</td>\n      <td>373</td>\n      <td>42</td>\n      <td>14.4</td>\n    </tr>\n    <tr>\n      <th>98</th>\n      <td>Lithuania</td>\n      <td>343</td>\n      <td>244</td>\n      <td>56</td>\n      <td>12.9</td>\n    </tr>\n  </tbody>\n</table>\n</div>"
     },
     "metadata": {},
     "execution_count": 29
    }
   ],
   "source": [
    "#Se você quiser saber os países cujo consumo total de álcool é maior ou igual a 12 litros por pessoa, faça assim\n",
    "df[df['total_litres_of_pure_alcohol'] >= 12]"
   ]
  },
  {
   "cell_type": "code",
   "execution_count": 30,
   "metadata": {},
   "outputs": [
    {
     "output_type": "execute_result",
     "data": {
      "text/plain": [
       "        country  beer_servings  spirit_servings  wine_servings  \\\n",
       "0   Afghanistan              0                0              0   \n",
       "13   Bangladesh              0                0              0   \n",
       "46  North Korea              0                0              0   \n",
       "79         Iran              0                0              0   \n",
       "90       Kuwait              0                0              0   \n",
       "\n",
       "    total_litres_of_pure_alcohol  \n",
       "0                            0.0  \n",
       "13                           0.0  \n",
       "46                           0.0  \n",
       "79                           0.0  \n",
       "90                           0.0  "
      ],
      "text/html": "<div>\n<style scoped>\n    .dataframe tbody tr th:only-of-type {\n        vertical-align: middle;\n    }\n\n    .dataframe tbody tr th {\n        vertical-align: top;\n    }\n\n    .dataframe thead th {\n        text-align: right;\n    }\n</style>\n<table border=\"1\" class=\"dataframe\">\n  <thead>\n    <tr style=\"text-align: right;\">\n      <th></th>\n      <th>country</th>\n      <th>beer_servings</th>\n      <th>spirit_servings</th>\n      <th>wine_servings</th>\n      <th>total_litres_of_pure_alcohol</th>\n    </tr>\n  </thead>\n  <tbody>\n    <tr>\n      <th>0</th>\n      <td>Afghanistan</td>\n      <td>0</td>\n      <td>0</td>\n      <td>0</td>\n      <td>0.0</td>\n    </tr>\n    <tr>\n      <th>13</th>\n      <td>Bangladesh</td>\n      <td>0</td>\n      <td>0</td>\n      <td>0</td>\n      <td>0.0</td>\n    </tr>\n    <tr>\n      <th>46</th>\n      <td>North Korea</td>\n      <td>0</td>\n      <td>0</td>\n      <td>0</td>\n      <td>0.0</td>\n    </tr>\n    <tr>\n      <th>79</th>\n      <td>Iran</td>\n      <td>0</td>\n      <td>0</td>\n      <td>0</td>\n      <td>0.0</td>\n    </tr>\n    <tr>\n      <th>90</th>\n      <td>Kuwait</td>\n      <td>0</td>\n      <td>0</td>\n      <td>0</td>\n      <td>0.0</td>\n    </tr>\n  </tbody>\n</table>\n</div>"
     },
     "metadata": {},
     "execution_count": 30
    }
   ],
   "source": [
    "#Se você quiser exibir apenas os 5 primeiros resultados da seleção dos países nos quais o consumo de álcool é igual a 0, você pode chamar o método head() após a seleção.\n",
    "df[df['total_litres_of_pure_alcohol'] == 0].head()"
   ]
  },
  {
   "cell_type": "code",
   "execution_count": 31,
   "metadata": {},
   "outputs": [
    {
     "output_type": "execute_result",
     "data": {
      "text/plain": [
       "         country  beer_servings  spirit_servings  wine_servings  \\\n",
       "61        France            127              151            370   \n",
       "136     Portugal            194               67            339   \n",
       "3        Andorra            245              138            312   \n",
       "166  Switzerland            185              100            280   \n",
       "48       Denmark            224               81            278   \n",
       "\n",
       "     total_litres_of_pure_alcohol  \n",
       "61                           11.8  \n",
       "136                          11.0  \n",
       "3                            12.4  \n",
       "166                          10.2  \n",
       "48                           10.4  "
      ],
      "text/html": "<div>\n<style scoped>\n    .dataframe tbody tr th:only-of-type {\n        vertical-align: middle;\n    }\n\n    .dataframe tbody tr th {\n        vertical-align: top;\n    }\n\n    .dataframe thead th {\n        text-align: right;\n    }\n</style>\n<table border=\"1\" class=\"dataframe\">\n  <thead>\n    <tr style=\"text-align: right;\">\n      <th></th>\n      <th>country</th>\n      <th>beer_servings</th>\n      <th>spirit_servings</th>\n      <th>wine_servings</th>\n      <th>total_litres_of_pure_alcohol</th>\n    </tr>\n  </thead>\n  <tbody>\n    <tr>\n      <th>61</th>\n      <td>France</td>\n      <td>127</td>\n      <td>151</td>\n      <td>370</td>\n      <td>11.8</td>\n    </tr>\n    <tr>\n      <th>136</th>\n      <td>Portugal</td>\n      <td>194</td>\n      <td>67</td>\n      <td>339</td>\n      <td>11.0</td>\n    </tr>\n    <tr>\n      <th>3</th>\n      <td>Andorra</td>\n      <td>245</td>\n      <td>138</td>\n      <td>312</td>\n      <td>12.4</td>\n    </tr>\n    <tr>\n      <th>166</th>\n      <td>Switzerland</td>\n      <td>185</td>\n      <td>100</td>\n      <td>280</td>\n      <td>10.2</td>\n    </tr>\n    <tr>\n      <th>48</th>\n      <td>Denmark</td>\n      <td>224</td>\n      <td>81</td>\n      <td>278</td>\n      <td>10.4</td>\n    </tr>\n  </tbody>\n</table>\n</div>"
     },
     "metadata": {},
     "execution_count": 31
    }
   ],
   "source": [
    "#Outra operação muito útil é ordenar os dados a partir de uma variável do maior para o menor, ou do menor para o maior. No pandas, isso é feito pelo método sort_values().\n",
    "df.sort_values(by='wine_servings', ascending = False).head()\n"
   ]
  },
  {
   "cell_type": "code",
   "execution_count": null,
   "metadata": {},
   "outputs": [],
   "source": []
  }
 ]
}